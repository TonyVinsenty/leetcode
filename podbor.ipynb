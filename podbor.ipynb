{
 "cells": [
  {
   "cell_type": "code",
   "execution_count": 1,
   "metadata": {},
   "outputs": [],
   "source": [
    "import json\n",
    "import requests\n",
    "import pandas as pd"
   ]
  },
  {
   "cell_type": "code",
   "execution_count": 41,
   "metadata": {},
   "outputs": [],
   "source": [
    "with open('data/dev_candidates_sample.json') as json_file:\n",
    "    data = json_file.read()"
   ]
  },
  {
   "cell_type": "code",
   "execution_count": 51,
   "metadata": {},
   "outputs": [
    {
     "name": "stdout",
     "output_type": "stream",
     "text": [
      "<class 'str'>\n"
     ]
    }
   ],
   "source": [
    "print(type(data))"
   ]
  },
  {
   "cell_type": "code",
   "execution_count": 49,
   "metadata": {},
   "outputs": [],
   "source": [
    "data_dict = json.dumps(data)"
   ]
  },
  {
   "cell_type": "code",
   "execution_count": 52,
   "metadata": {},
   "outputs": [
    {
     "name": "stdout",
     "output_type": "stream",
     "text": [
      "<class 'str'>\n"
     ]
    }
   ],
   "source": [
    "print(type(data_dict))"
   ]
  },
  {
   "cell_type": "code",
   "execution_count": 2,
   "metadata": {},
   "outputs": [],
   "source": [
    "data = pd.read_json('data/dev_candidates_sample.json')"
   ]
  },
  {
   "cell_type": "code",
   "execution_count": 4,
   "metadata": {},
   "outputs": [],
   "source": [
    "df = pd.DataFrame(data)"
   ]
  },
  {
   "cell_type": "code",
   "execution_count": 6,
   "metadata": {},
   "outputs": [
    {
     "data": {
      "text/html": [
       "<div>\n",
       "<style scoped>\n",
       "    .dataframe tbody tr th:only-of-type {\n",
       "        vertical-align: middle;\n",
       "    }\n",
       "\n",
       "    .dataframe tbody tr th {\n",
       "        vertical-align: top;\n",
       "    }\n",
       "\n",
       "    .dataframe thead th {\n",
       "        text-align: right;\n",
       "    }\n",
       "</style>\n",
       "<table border=\"1\" class=\"dataframe\">\n",
       "  <thead>\n",
       "    <tr style=\"text-align: right;\">\n",
       "      <th></th>\n",
       "      <th>positions_array</th>\n",
       "      <th>rating</th>\n",
       "      <th>id</th>\n",
       "    </tr>\n",
       "  </thead>\n",
       "  <tbody>\n",
       "    <tr>\n",
       "      <th>0</th>\n",
       "      <td>[Project Manager, Менеджер Проектов, Developer...</td>\n",
       "      <td>[{'skill': 'devops', 'quantile': 4.1, 'value':...</td>\n",
       "      <td>3ccbf1760b4c75b2b6bef91b1c19d535</td>\n",
       "    </tr>\n",
       "    <tr>\n",
       "      <th>1</th>\n",
       "      <td>[Developer, Software Engineer, Программист, Ра...</td>\n",
       "      <td>[{'skill': 'javascript', 'quantile': 4.1, 'val...</td>\n",
       "      <td>544992952a98120944bef4c82a21973a</td>\n",
       "    </tr>\n",
       "    <tr>\n",
       "      <th>2</th>\n",
       "      <td>[Full Stack Developer, Developer, Software Eng...</td>\n",
       "      <td>[{'skill': 'javascript', 'quantile': 4.1, 'val...</td>\n",
       "      <td>e08d5ca74095aa6edc8f60f746bb8881</td>\n",
       "    </tr>\n",
       "    <tr>\n",
       "      <th>3</th>\n",
       "      <td>[Архитектор, Architect, Developer, Software En...</td>\n",
       "      <td>[{'skill': 'java', 'quantile': 4.1, 'value': 5...</td>\n",
       "      <td>41b697149f196f7387d2b2ed51739c4d</td>\n",
       "    </tr>\n",
       "    <tr>\n",
       "      <th>4</th>\n",
       "      <td>[Developer, Software Engineer, Программист, Ра...</td>\n",
       "      <td>[{'skill': 'javascript', 'quantile': 4.1, 'val...</td>\n",
       "      <td>60c0bce3343f437f625c1484bfded7b6</td>\n",
       "    </tr>\n",
       "    <tr>\n",
       "      <th>...</th>\n",
       "      <td>...</td>\n",
       "      <td>...</td>\n",
       "      <td>...</td>\n",
       "    </tr>\n",
       "    <tr>\n",
       "      <th>9995</th>\n",
       "      <td>[Backend Developer, Developer, Software Engine...</td>\n",
       "      <td>[{'skill': 'java', 'quantile': 4.1, 'value': 1...</td>\n",
       "      <td>a83c26de77aa8a97ceac7dc2dcc4a289</td>\n",
       "    </tr>\n",
       "    <tr>\n",
       "      <th>9996</th>\n",
       "      <td>[Developer, Software Engineer, Программист, Ра...</td>\n",
       "      <td>[{'skill': 'python', 'quantile': 4.1, 'value':...</td>\n",
       "      <td>4ad6b08774a9bee6811fac4fa07abdeb</td>\n",
       "    </tr>\n",
       "    <tr>\n",
       "      <th>9997</th>\n",
       "      <td>[Android Developer, Mobile Developer, Develope...</td>\n",
       "      <td>[{'skill': 'c#', 'quantile': 4.1, 'value': 19}...</td>\n",
       "      <td>fefba90824f369740a896f8cd2774d96</td>\n",
       "    </tr>\n",
       "    <tr>\n",
       "      <th>9998</th>\n",
       "      <td>[CTO, Технический Директор, Chief Technology O...</td>\n",
       "      <td>[{'skill': 'devops', 'quantile': 4.1, 'value':...</td>\n",
       "      <td>e8b7b75d6e915788bdb94c254dd4e9f8</td>\n",
       "    </tr>\n",
       "    <tr>\n",
       "      <th>9999</th>\n",
       "      <td>[Frontend Developer, JavaScript Developer, Dev...</td>\n",
       "      <td>[{'skill': 'javascript', 'quantile': 4.1, 'val...</td>\n",
       "      <td>6b55864d61d2ce8f92d7d74efad60280</td>\n",
       "    </tr>\n",
       "  </tbody>\n",
       "</table>\n",
       "<p>10000 rows × 3 columns</p>\n",
       "</div>"
      ],
      "text/plain": [
       "                                        positions_array  \\\n",
       "0     [Project Manager, Менеджер Проектов, Developer...   \n",
       "1     [Developer, Software Engineer, Программист, Ра...   \n",
       "2     [Full Stack Developer, Developer, Software Eng...   \n",
       "3     [Архитектор, Architect, Developer, Software En...   \n",
       "4     [Developer, Software Engineer, Программист, Ра...   \n",
       "...                                                 ...   \n",
       "9995  [Backend Developer, Developer, Software Engine...   \n",
       "9996  [Developer, Software Engineer, Программист, Ра...   \n",
       "9997  [Android Developer, Mobile Developer, Develope...   \n",
       "9998  [CTO, Технический Директор, Chief Technology O...   \n",
       "9999  [Frontend Developer, JavaScript Developer, Dev...   \n",
       "\n",
       "                                                 rating  \\\n",
       "0     [{'skill': 'devops', 'quantile': 4.1, 'value':...   \n",
       "1     [{'skill': 'javascript', 'quantile': 4.1, 'val...   \n",
       "2     [{'skill': 'javascript', 'quantile': 4.1, 'val...   \n",
       "3     [{'skill': 'java', 'quantile': 4.1, 'value': 5...   \n",
       "4     [{'skill': 'javascript', 'quantile': 4.1, 'val...   \n",
       "...                                                 ...   \n",
       "9995  [{'skill': 'java', 'quantile': 4.1, 'value': 1...   \n",
       "9996  [{'skill': 'python', 'quantile': 4.1, 'value':...   \n",
       "9997  [{'skill': 'c#', 'quantile': 4.1, 'value': 19}...   \n",
       "9998  [{'skill': 'devops', 'quantile': 4.1, 'value':...   \n",
       "9999  [{'skill': 'javascript', 'quantile': 4.1, 'val...   \n",
       "\n",
       "                                    id  \n",
       "0     3ccbf1760b4c75b2b6bef91b1c19d535  \n",
       "1     544992952a98120944bef4c82a21973a  \n",
       "2     e08d5ca74095aa6edc8f60f746bb8881  \n",
       "3     41b697149f196f7387d2b2ed51739c4d  \n",
       "4     60c0bce3343f437f625c1484bfded7b6  \n",
       "...                                ...  \n",
       "9995  a83c26de77aa8a97ceac7dc2dcc4a289  \n",
       "9996  4ad6b08774a9bee6811fac4fa07abdeb  \n",
       "9997  fefba90824f369740a896f8cd2774d96  \n",
       "9998  e8b7b75d6e915788bdb94c254dd4e9f8  \n",
       "9999  6b55864d61d2ce8f92d7d74efad60280  \n",
       "\n",
       "[10000 rows x 3 columns]"
      ]
     },
     "metadata": {},
     "output_type": "display_data"
    }
   ],
   "source": [
    "display(df)"
   ]
  }
 ],
 "metadata": {
  "interpreter": {
   "hash": "9eb94a1b14b334e0c3d2680a6172d27e2f37fae59d60812c65e789617d41dfbc"
  },
  "kernelspec": {
   "display_name": "Python 3.8.8 64-bit ('base': conda)",
   "name": "python3"
  },
  "language_info": {
   "codemirror_mode": {
    "name": "ipython",
    "version": 3
   },
   "file_extension": ".py",
   "mimetype": "text/x-python",
   "name": "python",
   "nbconvert_exporter": "python",
   "pygments_lexer": "ipython3",
   "version": "3.8.8"
  },
  "orig_nbformat": 4
 },
 "nbformat": 4,
 "nbformat_minor": 2
}
